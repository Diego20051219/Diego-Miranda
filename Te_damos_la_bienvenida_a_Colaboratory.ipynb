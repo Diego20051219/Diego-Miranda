{
  "cells": [
    {
      "cell_type": "markdown",
      "metadata": {
        "id": "view-in-github",
        "colab_type": "text"
      },
      "source": [
        "<a href=\"https://colab.research.google.com/github/Diego20051219/Diego-Miranda/blob/main/Te_damos_la_bienvenida_a_Colaboratory.ipynb\" target=\"_parent\"><img src=\"https://colab.research.google.com/assets/colab-badge.svg\" alt=\"Open In Colab\"/></a>"
      ]
    },
    {
      "cell_type": "code",
      "source": [
        "# Algoritmo Estatura\n",
        "E = float (input(\"cual es tu estatura: \"))\n",
        "if E >= 1.30 :\n",
        "   print(\"puedes ingresar a la fiesta\")\n",
        "else: print(\"no puedes entar a la fiesta\")"
      ],
      "metadata": {
        "id": "MM2kqcP31D9W",
        "outputId": "486a44a1-1c76-459e-c285-ec3f05e49ab9",
        "colab": {
          "base_uri": "https://localhost:8080/"
        }
      },
      "execution_count": 14,
      "outputs": [
        {
          "output_type": "stream",
          "name": "stdout",
          "text": [
            "cual es tu estatura: 1.20\n",
            "no puedes entar a la fiesta\n"
          ]
        }
      ]
    },
    {
      "cell_type": "code",
      "source": [
        "algo = float(input(\"Ingrese el valor de los ingresos de venta: \"))\n",
        "\n",
        "if algo > 0:\n",
        "    c = float(input(\"Ingrese el valor de los costos de venta: \"))\n",
        "else:\n",
        "    print(\"No se puede con números negativos\")\n",
        "\n",
        "if c >= 0:\n",
        "    gastos = float(input(\"Ingrese el valor de los gastos de venta: \"))\n",
        "else:\n",
        "    print(\"No se puede con números negativos\")\n",
        "\n",
        "if gastos >= 0:\n",
        "    utilidades = algo - c - gastos\n",
        "    print(f\"La utilidad de venta es: {utilidades}\")\n",
        "else:\n",
        "    print(\"El valor no puede ser cero o negativo\")"
      ],
      "metadata": {
        "id": "4Jc9KaXsEG93"
      },
      "execution_count": null,
      "outputs": []
    }
  ],
  "metadata": {
    "colab": {
      "name": "Te damos la bienvenida a Colaboratory",
      "toc_visible": true,
      "provenance": [],
      "include_colab_link": true
    },
    "kernelspec": {
      "display_name": "Python 3",
      "name": "python3"
    }
  },
  "nbformat": 4,
  "nbformat_minor": 0
}