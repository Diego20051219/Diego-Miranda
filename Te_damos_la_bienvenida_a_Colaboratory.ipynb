{
  "cells": [
    {
      "cell_type": "markdown",
      "metadata": {
        "id": "view-in-github",
        "colab_type": "text"
      },
      "source": [
        "<a href=\"https://colab.research.google.com/github/Diego20051219/Diego-Miranda/blob/main/Te_damos_la_bienvenida_a_Colaboratory.ipynb\" target=\"_parent\"><img src=\"https://colab.research.google.com/assets/colab-badge.svg\" alt=\"Open In Colab\"/></a>"
      ]
    },
    {
      "cell_type": "code",
      "source": [
        "import random\n",
        "import time from IPython.display\n",
        "import clear_output\n",
        "import copy\n",
        "rows = 2\n",
        "columns = 3\n",
        "cards_back = [[\"|_|\" for i in range(columns)] for i in range(rows)]\n",
        "temp_cards = copy.deepcopy(cards_back)\n",
        "options = ['J', 'J', 'Q', 'Q', 'K', 'K']\n",
        "game_cards = [[\"\" for i in range(columns)] for i in range (rows)]\n",
        "points = 10\n",
        "for i in range(len(game_cards)):\n",
        " for j in range(len(game_cards[i])):\n",
        "  random_card = random.choice(options)\n",
        "  game_cards[i][j] = '|' + random_card + '|'\n",
        "  options.remove(random_card)\n",
        "  remaining = rows * columns\n",
        "def show_cards(cards):\n",
        "  for i in range(len(cards)):\n",
        "    for j in range(len(cards[i])):\n",
        "       print(cards[i][j], end=\" \")\n",
        "       print(\"\\n\")\n",
        "       print(\"Puntos: \", points)\n",
        "  t = 2\n",
        "show_cards(cards_back)\n",
        "time.sleep(t)\n",
        "clear_output()\n",
        "show_cards(game_cards)\n",
        "time.sleep(t)\n",
        "clear_output()\n",
        "show_cards(cards_back)\n",
        "while remaining > 0:\n",
        " row_1 = int(input(\"Indique la fila: \"))\n",
        "column_1 = int(input(\"Indique la columna: \"))\n",
        "card_choice_1 = game_cards[row_1][column_1]\n",
        "temp_cards[row_1][column_1] = card_choice_1\n",
        "clear_output()\n",
        "show_cards(temp_cards)\n",
        "row_2 = int(input(\"Indique la fila: \"))\n",
        "column_2 = int(input(\"Indique la columna: \"))\n",
        "card_choice_2 = game_cards[row_2][column_2]\n",
        "temp_cards[row_2][column_2] = card_choice_2\n",
        "clear_output()\n",
        "show_cards(temp_cards)\n",
        "if card_choice_1 == card_choice_2:\n",
        "  temp_cards[row_1][column_1] = \" \"\n",
        "  temp_cards[row_2][column_2] = \" \"\n",
        "  game_cards[row_1][column_1] = \"X\"\n",
        "  game_cards[row_2][column_2] = \"Y\"\n",
        "  remaining -= 2\n",
        "  clear_output()\n",
        "  show_cards(temp_cards)\n",
        "else: clear_output()\n",
        "temp_cards[row_1][column_1] = cards_back[row_1][column_1]\n",
        "temp_cards[row_2][column_2] = cards_back[row_2][column_2]\n",
        "points -= 1\n",
        "show_cards(temp_cards)\n",
        "if remaining == 0: print(\"Win Win\")\n",
        "\n",
        "\n",
        "\n",
        "import random\n",
        "def hide_value(board):\n",
        "  secret_value = board / 2\n",
        "  board += 1\n",
        "  return secret_value, board\n",
        "\n",
        "def play_game(size, options):\n",
        "  board = generate_board(size, options)\n",
        "  show_board(board)\n",
        "  secret_value, board = hide_value(board)\n",
        "  show_board(board)\n",
        "\n",
        " play_game(options)\n",
        "while True:\n",
        "      play_again = input(\"¿Quieres jugar de nuevo? (S/N): \").lower()\n",
        "      if play_again != \"S\" :\n",
        "        break\n",
        "      play_game(options)\n",
        "\n",
        "\n"
      ],
      "metadata": {
        "colab": {
          "base_uri": "https://localhost:8080/",
          "height": 106
        },
        "id": "GH331GY8rfiG",
        "outputId": "c2feacb8-83d0-4fe0-c8f7-2fdf65aa25a2"
      },
      "execution_count": 2,
      "outputs": [
        {
          "output_type": "error",
          "ename": "SyntaxError",
          "evalue": "invalid syntax (<ipython-input-2-4d6063fcfd7e>, line 2)",
          "traceback": [
            "\u001b[0;36m  File \u001b[0;32m\"<ipython-input-2-4d6063fcfd7e>\"\u001b[0;36m, line \u001b[0;32m2\u001b[0m\n\u001b[0;31m    import time from IPython.display\u001b[0m\n\u001b[0m                ^\u001b[0m\n\u001b[0;31mSyntaxError\u001b[0m\u001b[0;31m:\u001b[0m invalid syntax\n"
          ]
        }
      ]
    },
    {
      "cell_type": "code",
      "source": [
        "import random\n",
        "import time\n",
        "def main():\n",
        "    print(\"Bienvenido\")\n",
        "    size = int(input(\"Tamaño: \"))\n",
        "    options = [\"a\",\"b\",\"1\",\"g\",\"6\"]\n",
        "    crear_board(size, options)\n",
        "\n",
        "if __name__ == \"__main__\":\n",
        "     main()\n",
        "def crear_board(size,options):\n",
        " board = []\n",
        " for i in range(size):\n",
        "   temp_row = []\n",
        "   for j in range(size):\n",
        "     temp_row.append(random.choice(options))\n",
        "   board.append(temp_row)\n",
        " return board\n",
        "\n",
        "def show_board(board):\n",
        "  for row in board:\n",
        "    for element in row:\n",
        "     print(element, end = \" \")\n",
        "    print()\n",
        "board = crear_board(size, options)\n",
        "show_board(board)\n",
        "\n",
        "def hide_value(board):\n",
        "  max = len(board)-1\n",
        "  row = random.randint(0, max)\n",
        "  column = random.randint(0, max)\n",
        "  secret_evalue = board[row][column]\n",
        "  board[row][column] = \"*\"\n",
        "  return secret_evalue, board\n",
        "board = crear_board(size,options)\n",
        "show_board(board)\n",
        "secret_evalue, board = hide_value(board)\n",
        "print()\n",
        "print(secret_evalue)\n",
        "print()\n",
        "show_board(board)\n",
        "def play_game(size, options):\n",
        "  board = crear_board(size, options)\n",
        "  show_board(board)\n",
        "  secret_value, board = hide_value(board)\n",
        "  show_board(board)\n"
      ],
      "metadata": {
        "colab": {
          "base_uri": "https://localhost:8080/"
        },
        "id": "4qlUm9p2ukF4",
        "outputId": "4462e965-3d92-4032-c27e-ea88cdf64898"
      },
      "execution_count": 50,
      "outputs": [
        {
          "output_type": "stream",
          "name": "stdout",
          "text": [
            "Bienvenido\n",
            "Tamaño: 7\n",
            "B B C A C \n",
            "B C A B A \n",
            "B C C B A \n",
            "A B B B A \n",
            "C A C B B \n",
            "B B B C C \n",
            "C C A C B \n",
            "A A B C B \n",
            "B A A B B \n",
            "C C A C A \n",
            "\n",
            "A\n",
            "\n",
            "B B B C C \n",
            "C C A C B \n",
            "* A B C B \n",
            "B A A B B \n",
            "C C A C A \n"
          ]
        }
      ]
    },
    {
      "cell_type": "code",
      "source": [
        "import random\n",
        "\n",
        "def crear_board(size, options):\n",
        "    board = []\n",
        "    for i in range(size):\n",
        "        temp_row = []\n",
        "        for j in range(size):\n",
        "            temp_row.append(random.choice(options))\n",
        "        board.append(temp_row)\n",
        "    return board\n",
        "\n",
        "def show_board(board):\n",
        "    for row in board:\n",
        "        for element in row:\n",
        "            print(element, end=\" \")\n",
        "        print()\n",
        "\n",
        "def hide_value(board):\n",
        "    max_index = len(board) - 1\n",
        "    row = random.randint(0, max_index)\n",
        "    column = random.randint(0, max_index)\n",
        "    secret_value = board[row][column]\n",
        "    board[row][column] = \"*\"\n",
        "    return secret_value, board\n",
        "\n",
        "def play_game(size, options):\n",
        "    print(\"Bienvenidos\")\n",
        "    board = crear_board(size, options)\n",
        "    show_board(board)\n",
        "    secret_value, board = hide_value(board)\n",
        "    print(\"\\nGuess the hidden value!\")\n",
        "    show_board(board)\n",
        "    return secret_value\n",
        "\n",
        "if __name__ == \"__main__\":\n",
        "    size = int(input(\"Board size: \"))\n",
        "    options = [\"a\", \"b\", \"1\", \"g\", \"6\"]\n",
        "    secret_value = play_game(size, options)\n",
        "    print(f\"\\nThe hidden value was: {secret_value}\")\n"
      ],
      "metadata": {
        "colab": {
          "base_uri": "https://localhost:8080/"
        },
        "id": "3y4K-4QFDJyD",
        "outputId": "409ac6bc-5bb0-47a8-ee2e-5e2902b1ae7b"
      },
      "execution_count": 51,
      "outputs": [
        {
          "output_type": "stream",
          "name": "stdout",
          "text": [
            "Board size: 4\n",
            "Welcome\n",
            "b b g 6 \n",
            "6 6 1 g \n",
            "b g b 6 \n",
            "g b b 6 \n",
            "\n",
            "Guess the hidden value!\n",
            "b b g 6 \n",
            "6 6 1 g \n",
            "* g b 6 \n",
            "g b b 6 \n",
            "\n",
            "The hidden value was: b\n"
          ]
        }
      ]
    }
  ],
  "metadata": {
    "colab": {
      "name": "Te damos la bienvenida a Colaboratory",
      "toc_visible": true,
      "provenance": [],
      "include_colab_link": true
    },
    "kernelspec": {
      "display_name": "Python 3",
      "name": "python3"
    }
  },
  "nbformat": 4,
  "nbformat_minor": 0
}