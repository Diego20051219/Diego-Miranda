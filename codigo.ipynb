{
  "nbformat": 4,
  "nbformat_minor": 0,
  "metadata": {
    "colab": {
      "provenance": [],
      "authorship_tag": "ABX9TyN4qdpTaBH0Kc/tAy23w8/O",
      "include_colab_link": true
    },
    "kernelspec": {
      "name": "python3",
      "display_name": "Python 3"
    },
    "language_info": {
      "name": "python"
    }
  },
  "cells": [
    {
      "cell_type": "markdown",
      "metadata": {
        "id": "view-in-github",
        "colab_type": "text"
      },
      "source": [
        "<a href=\"https://colab.research.google.com/github/Diego20051219/Diego-Miranda/blob/main/codigo.ipynb\" target=\"_parent\"><img src=\"https://colab.research.google.com/assets/colab-badge.svg\" alt=\"Open In Colab\"/></a>"
      ]
    },
    {
      "cell_type": "code",
      "execution_count": null,
      "metadata": {
        "colab": {
          "base_uri": "https://localhost:8080/"
        },
        "id": "b0r0lUinuuL9",
        "outputId": "ed45febb-4ffb-4e40-8cfb-08238599032d"
      },
      "outputs": [
        {
          "output_type": "stream",
          "name": "stdout",
          "text": [
            "1\n"
          ]
        }
      ],
      "source": [
        "d = 5\n",
        "c = 6\n",
        "a  = c - d\n",
        "print(a)"
      ]
    },
    {
      "cell_type": "code",
      "source": [
        "# Algoritmo cancele\n",
        "a = int(input(\"Ingrese la primera nota: \"))\n",
        "b = int(input(\"Ingrese la segunda nota: \"))\n",
        "c = int(input(\"Ingrese la tercera nota: \"))\n",
        "d = int(input(\"Ingrese la cuarta nota: \"))\n",
        "s = (a + b + c + d )/4\n",
        "if s<2.9 :\n",
        "\t\tprint( f\"cancele, su nota es {s}\")\n",
        "else :\n",
        "\tprint(f\"su nota es {s} sigue asì\")"
      ],
      "metadata": {
        "colab": {
          "base_uri": "https://localhost:8080/"
        },
        "id": "iteaI62MvW8e",
        "outputId": "46425be6-cb3d-4d89-bbc1-32b81f0149aa"
      },
      "execution_count": null,
      "outputs": [
        {
          "output_type": "stream",
          "name": "stdout",
          "text": [
            "Ingrese la primera nota: 3\n",
            "Ingrese la segunda nota: 4\n",
            "Ingrese la tercera nota: 5\n",
            "Ingrese la cuarta nota: 2\n",
            "su nota es 3.5 sigue asì\n"
          ]
        }
      ]
    },
    {
      "cell_type": "code",
      "source": [
        "# Algoritmo seguridad\n",
        "CV=2004\n",
        "C = float(input( \"Ingrese su Contraseña: \"))\n",
        "while C != CV :\n",
        "  print( \"Contraseña Incorrecta \")\n",
        "  C = float(input( \"Ingrese su Contraseña: \"))\n",
        "if C == CV :\n",
        "\t print(\"contraseña Correcta\")\n",
        "else :\n",
        "\t print(\"Contraseña Correcta\")"
      ],
      "metadata": {
        "colab": {
          "base_uri": "https://localhost:8080/"
        },
        "id": "503nd9UAy5em",
        "outputId": "f6e8aef8-42ba-4c88-e2de-dc70f9d13f34"
      },
      "execution_count": null,
      "outputs": [
        {
          "output_type": "stream",
          "name": "stdout",
          "text": [
            "Ingrese su Contraseña2005\n",
            "Contraseña Incorrecta\n",
            "Ingrese su Contraseña30823\n",
            "Contraseña Incorrecta\n",
            "Ingrese su Contraseña2004\n",
            "contraseña Correcta\n"
          ]
        }
      ]
    },
    {
      "cell_type": "code",
      "source": [
        "# Sistema vacacional de Coca-Cola Company\n",
        "print(\"Bienvenido al sistema vacacional de Coca-Cola Company\")\n",
        "nombre = input(\"¿Cuál es el nombre del trabajador? \")\n",
        "antiguedad = int(input(\"¿Cuántos años de servicio tiene el trabajador? \"))\n",
        "clave = int(input(\"¿Cuál es la clave de su departamento? \"))\n",
        "\n",
        "if clave > 3:\n",
        "    print(\"Error, la clave de departamento no existe.\")\n",
        "else:\n",
        "    if clave == 1:\n",
        "        if antiguedad == 1:\n",
        "            print(nombre, \"tiene derecho a 6 días de vacaciones.\")\n",
        "        elif 2 <= antiguedad <= 6:\n",
        "            print(nombre, \"tiene derecho a 14 días de vacaciones.\")\n",
        "        elif antiguedad == 7:\n",
        "            print(nombre, \"tiene derecho a 20 días de vacaciones.\")\n",
        "        else:\n",
        "            print(\"Aun no tiene derecho a vacaciones.\")\n",
        "    elif clave == 2:\n",
        "        if antiguedad == 1:\n",
        "            print(nombre, \"tiene derecho a 7 días de vacaciones.\")\n",
        "        elif 2 <= antiguedad <= 6:\n",
        "            print(nombre, \"tiene derecho a 15 días de vacaciones.\")\n",
        "        elif antiguedad == 7:\n",
        "            print(nombre, \"tiene derecho a 22 días de vacaciones.\")\n",
        "        else:\n",
        "            print(\"Aun no tiene derecho a vacaciones.\")\n",
        "    elif clave == 3:\n",
        "        if antiguedad == 1:\n",
        "            print(nombre, \"tiene derecho a 10 días de vacaciones.\")\n",
        "        elif 2 <= antiguedad <= 6:\n",
        "            print(nombre, \"tiene derecho a 20 días de vacaciones.\")\n",
        "        elif antiguedad == 7:\n",
        "            print(nombre, \"tiene derecho a 30 días de vacaciones.\")\n",
        "        else:\n",
        "            print(\"Aun no tiene derecho a vacaciones.\")\n"
      ],
      "metadata": {
        "id": "Q3NNO_R7L5ay",
        "outputId": "cc7e89a8-f6f3-4a70-cd25-63c2c82ccfdb",
        "colab": {
          "base_uri": "https://localhost:8080/"
        }
      },
      "execution_count": null,
      "outputs": [
        {
          "output_type": "stream",
          "name": "stdout",
          "text": [
            "Bienvenido al sistema vacacional de Coca-Cola Company\n",
            "¿Cuál es el nombre del trabajador? hdfdfdf\n",
            "¿Cuántos años de servicio tiene el trabajador? 2\n",
            "¿Cuál es la clave de su departamento? 4\n",
            "Error, la clave de departamento no existe.\n"
          ]
        }
      ]
    },
    {
      "cell_type": "markdown",
      "source": [
        "CALCULO DE DE LA TIERRA\n"
      ],
      "metadata": {
        "id": "O2qS9Z-bnC9z"
      }
    },
    {
      "cell_type": "code",
      "source": [
        "total_craes = 43.500\n",
        "D = float(input(\"insert the total of square feat in the tract: \"))\n",
        "total = D / total_craes\n",
        "print(f\"el total es de:{total}\")"
      ],
      "metadata": {
        "colab": {
          "base_uri": "https://localhost:8080/"
        },
        "id": "l5VT8CjFnXOf",
        "outputId": "c1290aac-779c-4680-c301-cb4311f20255"
      },
      "execution_count": null,
      "outputs": [
        {
          "output_type": "stream",
          "name": "stdout",
          "text": [
            "insert the total of square feat in the tract: 7673\n",
            "el total es de:176.39080459770116\n"
          ]
        }
      ]
    },
    {
      "cell_type": "code",
      "source": [
        "tax = 6 / 100\n",
        "items1 = float(input(\"ingrese el valor items 1 : $\"))\n",
        "items2 = float(input(\"ingrese el valor items 2 : $\"))\n",
        "items3 = float(input(\"ingrese el valor items 3 : $\"))\n",
        "items4 = float(input(\"ingrese el valor items 4 : $\"))\n",
        "subtotal = items1 + items2 + items3 + items4\n",
        "sales_tax = subtotal * tax\n",
        "acut = subtotal * sales_tax"
      ],
      "metadata": {
        "id": "xRIJAuQirtC2"
      },
      "execution_count": null,
      "outputs": []
    },
    {
      "cell_type": "code",
      "source": [
        "a = float(input(\"ingrese un valor :\"))\n",
        "b = float (input(\"ingrese un valor: \"))\n",
        "if a != 0 :\n",
        "  x = -b / a\n",
        "  print(x)\n",
        "else :\n",
        "  if  b != 0 :\n",
        "    print(\"solucion imposible\")\n",
        "  else:\n",
        "    print(\"solucion indeterminada\")\n"
      ],
      "metadata": {
        "id": "SBS6BDUnydRJ",
        "outputId": "ffc1a7fa-9c8d-4b1d-8da5-c3f1a55ed7ba",
        "colab": {
          "base_uri": "https://localhost:8080/"
        }
      },
      "execution_count": null,
      "outputs": [
        {
          "output_type": "stream",
          "name": "stdout",
          "text": [
            "ingrese un valor :0\n",
            "ingrese un valor: 0\n",
            "solucion indeterminada\n"
          ]
        }
      ]
    },
    {
      "cell_type": "code",
      "source": [
        "horas = float(input(\"ingrese las horas trabajadas: \"))\n",
        "tarifa = float (input(\"ingrese la tarifa: \"))\n",
        "nombre = input(\"Ingrese su nombre: \")\n",
        "if horas <= 35 :\n",
        " salario_bruto = horas * tarifa\n",
        "else:\n",
        "  horas_extras = horas - 35\n",
        "  tarifa_extra = tarifa * (1 + 0.5)\n",
        "  salrio_bruto = horas * tarifa * 35 + horas_extras * tarifa_extra\n",
        "if salario_bruto <= 2200 :\n",
        "   impuesto = 0\n",
        "else :\n",
        "   if salario_bruto <= 2420 :\n",
        "     salario_neto = salario_bruto * 0.2\n",
        "   else : salario_bruto > 2420\n",
        "salario_neto = salario_bruto * 0.3\n",
        "print(f\"Hola {nombre} su salario en esta semana es de {salario_neto}\" )\n",
        "\n",
        "\n"
      ],
      "metadata": {
        "id": "YbnNTXtB7tC8",
        "outputId": "a53f875e-2a4d-4812-ef33-a65b1f1a0081",
        "colab": {
          "base_uri": "https://localhost:8080/"
        }
      },
      "execution_count": null,
      "outputs": [
        {
          "output_type": "stream",
          "name": "stdout",
          "text": [
            "ingrese las horas trabajadas: 3\n",
            "ingrese la tarifa: 2400\n",
            "Ingrese su nombre: diego\n",
            "Hola ¨diego su salario esta semana es de 2160.0\n"
          ]
        }
      ]
    },
    {
      "cell_type": "code",
      "source": [
        "a = int (input(\"ingrese un numero: \"))\n",
        "b = int (input(\"ingrese un numero: \"))\n",
        "c= int (input(\"ingrese un numero: \"))\n",
        "if a > b :\n",
        "  if a > c :\n",
        "   print (a)\n",
        "  else :\n",
        "    print(c)\n",
        "else :\n",
        "  if b > c :\n",
        "    print(b)\n",
        "  else:\n",
        "    print(c)\n"
      ],
      "metadata": {
        "id": "b3H7piyvAkRO",
        "outputId": "00c7cbdf-4742-4dc1-8cf0-72793bf7d6d2",
        "colab": {
          "base_uri": "https://localhost:8080/"
        }
      },
      "execution_count": null,
      "outputs": [
        {
          "output_type": "stream",
          "name": "stdout",
          "text": [
            "ingrese un numero: 1\n",
            "ingrese un numero: 2\n",
            "ingrese un numero: 3\n",
            "3\n"
          ]
        }
      ]
    },
    {
      "cell_type": "code",
      "source": [
        "# CALCULAR SUMA\n",
        "print(\"Bienvenidos al programa calcular la suma de varios numeros \")\n",
        "x = float(input(\"ingrese un numero: \"))\n",
        "suma = 0\n",
        "while x != 0 :\n",
        "  suma += x\n",
        "  x = float(input(\"ingrese otro numero: \"))\n",
        "print(f\"la suma de los numero es {suma}\")"
      ],
      "metadata": {
        "id": "4MMQBrvqwNe-"
      },
      "execution_count": null,
      "outputs": []
    },
    {
      "cell_type": "code",
      "source": [
        "# calculadora notas\n",
        "x = float(input(\"ingrese las notas a calcular: \"))\n",
        "for s in range(x):\n",
        " nota = float(input(\"ingrese su nota: \"))\n",
        " peso = float(input(\"ingrese el porcentaje: \"))\n",
        "suma_prod += nota * peso / 100\n",
        "suma_pes += peso / 100\n",
        "\n",
        "\n"
      ],
      "metadata": {
        "id": "vwoFn5Za7oOF",
        "outputId": "bcfd9937-1187-49f5-ff7d-d41abf134747",
        "colab": {
          "base_uri": "https://localhost:8080/",
          "height": 228
        }
      },
      "execution_count": null,
      "outputs": [
        {
          "name": "stdout",
          "output_type": "stream",
          "text": [
            "ingrese las notas a calcular: 3\n"
          ]
        },
        {
          "output_type": "error",
          "ename": "TypeError",
          "evalue": "'float' object cannot be interpreted as an integer",
          "traceback": [
            "\u001b[0;31m---------------------------------------------------------------------------\u001b[0m",
            "\u001b[0;31mTypeError\u001b[0m                                 Traceback (most recent call last)",
            "\u001b[0;32m<ipython-input-37-1dce5e5d0e3c>\u001b[0m in \u001b[0;36m<cell line: 3>\u001b[0;34m()\u001b[0m\n\u001b[1;32m      1\u001b[0m \u001b[0;31m# calculadora notas\u001b[0m\u001b[0;34m\u001b[0m\u001b[0;34m\u001b[0m\u001b[0m\n\u001b[1;32m      2\u001b[0m \u001b[0mx\u001b[0m \u001b[0;34m=\u001b[0m \u001b[0mfloat\u001b[0m\u001b[0;34m(\u001b[0m\u001b[0minput\u001b[0m\u001b[0;34m(\u001b[0m\u001b[0;34m\"ingrese las notas a calcular: \"\u001b[0m\u001b[0;34m)\u001b[0m\u001b[0;34m)\u001b[0m\u001b[0;34m\u001b[0m\u001b[0;34m\u001b[0m\u001b[0m\n\u001b[0;32m----> 3\u001b[0;31m \u001b[0;32mfor\u001b[0m \u001b[0ms\u001b[0m \u001b[0;32min\u001b[0m \u001b[0mrange\u001b[0m\u001b[0;34m(\u001b[0m\u001b[0mx\u001b[0m\u001b[0;34m)\u001b[0m\u001b[0;34m:\u001b[0m\u001b[0;34m\u001b[0m\u001b[0;34m\u001b[0m\u001b[0m\n\u001b[0m\u001b[1;32m      4\u001b[0m  \u001b[0mnota\u001b[0m \u001b[0;34m=\u001b[0m \u001b[0mfloat\u001b[0m\u001b[0;34m(\u001b[0m\u001b[0minput\u001b[0m\u001b[0;34m(\u001b[0m\u001b[0;34m\"ingrese su nota: \"\u001b[0m\u001b[0;34m)\u001b[0m\u001b[0;34m)\u001b[0m\u001b[0;34m\u001b[0m\u001b[0;34m\u001b[0m\u001b[0m\n\u001b[1;32m      5\u001b[0m  \u001b[0mpeso\u001b[0m \u001b[0;34m=\u001b[0m \u001b[0mfloat\u001b[0m\u001b[0;34m(\u001b[0m\u001b[0minput\u001b[0m\u001b[0;34m(\u001b[0m\u001b[0;34m\"ingrese el porcentaje: \"\u001b[0m\u001b[0;34m)\u001b[0m\u001b[0;34m)\u001b[0m\u001b[0;34m\u001b[0m\u001b[0;34m\u001b[0m\u001b[0m\n",
            "\u001b[0;31mTypeError\u001b[0m: 'float' object cannot be interpreted as an integer"
          ]
        }
      ]
    },
    {
      "cell_type": "markdown",
      "source": [
        "`Listas pytho`"
      ],
      "metadata": {
        "id": "RanBI-XMPUsQ"
      }
    },
    {
      "cell_type": "code",
      "source": [
        "frutas = [\"manzana\", \"naranja\", \"pera\", \"mango\", \"pomelo\"]\n",
        "print(frutas)\n",
        "frutas.append(\"guanaba\" )\n",
        "frutas.append(\"ciruela\")\n",
        "print(frutas[3])\n",
        "print(frutas[-1])\n",
        "print(frutas[0])\n",
        "print(frutas)\n"
      ],
      "metadata": {
        "id": "Svc-RzEoPSna",
        "outputId": "69583860-1bd2-4c03-a948-e16488e740d7",
        "colab": {
          "base_uri": "https://localhost:8080/"
        }
      },
      "execution_count": null,
      "outputs": [
        {
          "output_type": "stream",
          "name": "stdout",
          "text": [
            "['manzana', 'naranja', 'pera', 'mango']\n",
            "mango\n",
            "ciruela\n",
            "manzana\n",
            "['manzana', 'naranja', 'pera', 'mango', 'guanaba', 'ciruela']\n"
          ]
        }
      ]
    },
    {
      "cell_type": "code",
      "source": [
        "frutas = [\"manzana\", \"naranja\", \"maracuya\", \"pera\", \"mango\", \"pomelo\", \"maracuya\"]\n",
        "# for fruta in frutas :\n",
        "#   print(fruta)\n",
        "#  for i in range(len(frutas)):\n",
        "#    print(f\"{i + 1}.{frutas[i]}\")\n",
        "#  i = 0\n",
        "#  while i < 5:\n",
        "#    print(i)\n",
        "#   i += 1\n",
        "#  for i in range(10, -11, 2):\n",
        "#    print(i)\n",
        "# for fruta in frutas :\n",
        "#  if fruta == \"maracuya\" :\n",
        "#                   continue\n",
        "#  print(fruta)\n"
      ],
      "metadata": {
        "id": "uLgnjbjzUg4I",
        "outputId": "1f762062-987a-4c47-a4ad-589582714483",
        "colab": {
          "base_uri": "https://localhost:8080/"
        }
      },
      "execution_count": null,
      "outputs": [
        {
          "output_type": "stream",
          "name": "stdout",
          "text": [
            "manzana\n",
            "naranja\n",
            "pera\n",
            "mango\n",
            "pomelo\n"
          ]
        }
      ]
    },
    {
      "cell_type": "code",
      "source": [
        "a =  [11, 23, 15]\n",
        "b =  [12, 23, 15]\n",
        "sum_a = 0\n",
        "sum_b = 0\n",
        "for element in a: sum_a += element\n",
        "for element in b: sum_b += element\n",
        "if sum_a > sum_b:\n",
        "  print(\"a es mayor\")\n",
        "elif sum_a < sum_b :\n",
        "   print(\"b es mayor\")\n",
        "else :\n",
        " print(\"a y b son iguales\")\n",
        "\n"
      ],
      "metadata": {
        "id": "dwYmEuWKc_tr",
        "outputId": "5a8aeeee-240c-45d3-acf1-a74120111a83",
        "colab": {
          "base_uri": "https://localhost:8080/"
        }
      },
      "execution_count": null,
      "outputs": [
        {
          "output_type": "stream",
          "name": "stdout",
          "text": [
            "b es mayor\n"
          ]
        }
      ]
    },
    {
      "cell_type": "code",
      "source": [
        "def count_numbers_to_sum(numbers, target_sum):\n",
        "    current_sum = 0\n",
        "    count = 0\n",
        "\n",
        "    for num in numbers:\n",
        "        current_sum += num\n",
        "        count += 1\n",
        "        if current_sum >= target_sum:\n",
        "            break\n",
        "\n",
        "    return count\n",
        "\n",
        "# Input list of numbers\n",
        "numbers = [int(x) for x in input(\"Ingrese los números separados por espacios: \").split()]\n",
        "\n",
        "# Input target sum\n",
        "target_sum = int(input(\"Ingrese el valor a alcanzar: \"))\n",
        "\n",
        "result = count_numbers_to_sum(numbers, target_sum)\n",
        "print(\"Se necesitan\", result, \"números para alcanzar o superar el valor ingresado.\")\n",
        "\n"
      ],
      "metadata": {
        "id": "GNFeZ_Wdq1dB",
        "outputId": "3fb2f95d-be8c-4080-ebd9-cfd62e19361e",
        "colab": {
          "base_uri": "https://localhost:8080/"
        }
      },
      "execution_count": null,
      "outputs": [
        {
          "output_type": "stream",
          "name": "stdout",
          "text": [
            "Ingrese los números separados por espacios: 34 3434 32\n",
            "Ingrese el valor a alcanzar: 3466\n",
            "Se necesitan 2 números para alcanzar o superar el valor ingresado.\n"
          ]
        }
      ]
    },
    {
      "cell_type": "code",
      "source": [
        "import random\n",
        "a = [\"mami\", \"bebe\", \"princess\", \"mami\"]\n",
        "b = [\"yo puedo\", \"yo quiero\", \"yo vengo a\", \"voy a\"]\n",
        "c = [\"encenderte\", \"amarte\", \"ligar\", \"jugar\"]\n",
        "e = [\"suave\", \"lento\", \"rapido\", \"fuerte\"]\n",
        "f = [\"hasta que salga el sol\", \"toda la noche\", \"hasta el amanacer\", \"todo el dia\"]\n",
        "g = [\"sin anestesia\", \"sin compromiso\", \"fesi to feis\", \"sin miedo\"]\n",
        "h = random.choice(a)\n",
        "i = random.choice(b)\n",
        "j = random.choice(c)\n",
        "l= random.choice(e)\n",
        "m= random.choice(f)\n",
        "n= random.choice(g)\n",
        "print(h,i,j,l,m,n)"
      ],
      "metadata": {
        "id": "5Yl_NzNOu90m",
        "outputId": "752ce8b2-8750-4526-f454-c99b6a3bf04f",
        "colab": {
          "base_uri": "https://localhost:8080/"
        }
      },
      "execution_count": null,
      "outputs": [
        {
          "output_type": "stream",
          "name": "stdout",
          "text": [
            "princess voy a ligar fuerte hasta que salga el sol sin compromiso\n"
          ]
        }
      ]
    },
    {
      "cell_type": "code",
      "source": [
        "import random\n",
        "a = [\"titulo\", \"queridos\", \"apreciados\", \"distinguidos\", \"honorables\", \"estimados\", \"respetados\"]\n",
        "b = [\"publico objetvo\", \"compatriotas\", \"compartidarios\", \"amigos\", \"coterranios\", \"concuidadanos\", \"electores\"]\n",
        "c = [\"condicion\", \"en mi gobierno\", \"con su apoyo\", \"siendo elegido\", \"con su ayuda\", \"si me siguen\", \"durante mi mandato\"]\n",
        "e = [\"compromiso\", \"voy a derrotar\", \"vencere\", \"eliminare\", \"acabare\", \"luchare conntra\", \"combatire\"]\n",
        "f = [\"ilusion de lucha\", \"la violencia y\", \"la delicuencia y\", \"la corrupcion y\", \"la inflacion y\", \"la podreza y\", \"el desplazamiento y\"]\n",
        "g = [\"promesa\", \"trabajare por\", \"garantizare\", \"protegere\", \"velare por\", \"promovere\", \"defendere\"]\n",
        "d = [\"beneficio populista\", \"la educacion\", \"el empleo\", \"la seguridad\", \"la paz\", \"la igualdad\", \"la salud\"]\n",
        "o = [\"dependiendo de la cantidad de votos\", \"del pais\", \"de la ciudad\", \"de la comunidad\", \"de la poblacion\", \"para toda la gente\", \"de cada colombiano\"]\n",
        "h = random.choice(a)\n",
        "i = random.choice(b)\n",
        "j = random.choice(c)\n",
        "l = random.choice(e)\n",
        "m = random.choice(f)\n",
        "n = random.choice(g)\n",
        "x = random.choice(d)\n",
        "w = random.choice(o)\n",
        "\n",
        "print(h,i,j,l,m,n,x,w)"
      ],
      "metadata": {
        "id": "XkfRO77PvdBc",
        "outputId": "d5b0c918-c0ea-4ed1-94f8-6cd30b9ff3d5",
        "colab": {
          "base_uri": "https://localhost:8080/"
        }
      },
      "execution_count": null,
      "outputs": [
        {
          "output_type": "stream",
          "name": "stdout",
          "text": [
            "respetados compartidarios siendo elegido acabare la violencia y promesa beneficio populista de la poblacion\n"
          ]
        }
      ]
    },
    {
      "cell_type": "code",
      "source": [
        "Person = {\"name\": 1000 }\n",
        "print(Person)\n",
        "person = {\"papa\": 8000 }\n",
        "print(person)"
      ],
      "metadata": {
        "id": "7lJuu-T15wug",
        "outputId": "7ff857dc-71dd-417b-844a-e9d3f98c2bf9",
        "colab": {
          "base_uri": "https://localhost:8080/"
        }
      },
      "execution_count": null,
      "outputs": [
        {
          "output_type": "stream",
          "name": "stdout",
          "text": [
            "{'name': 1000}\n",
            "{'papa': 8000}\n"
          ]
        }
      ]
    },
    {
      "cell_type": "code",
      "source": [
        "studient_1 = {\"name\": \"Homero\", \"edad\": 15, \"genero\": \"M\", \"promedio\": 4.5}\n",
        "studient_2 = {\"name\": \"Lisa\", \"edad\": 15, \"genero\": \"F\", \"promedio\": 2.9}\n",
        "studient_3 = {\"name\": \"Bart\", \"edad\": 15, \"genero\": \"M\", \"promedio\": 3.4}\n",
        "studients = [studient_1,studient_2,studient_3]\n",
        "# print(studiens)\n",
        "for studient in studients :\n",
        "  print(studient[\"name\"])\n",
        "# promedio de edades\n",
        "edad_promedio = 0\n",
        "nota_prom = 0\n",
        "if len(studient) > 0 :\n",
        "  for studient in studients :\n",
        "    nota_prom += studient[\"edad\"]\n",
        "\n",
        "  nota_prom /= len(studient)\n",
        "  print(f\"nota promedio: {nota_prom:.2f}\")\n",
        "else: print(\"no hay\")"
      ],
      "metadata": {
        "id": "ZYB8eOL2FS5v",
        "outputId": "91e16db4-84ff-4668-eee8-967109d922f2",
        "colab": {
          "base_uri": "https://localhost:8080/"
        }
      },
      "execution_count": null,
      "outputs": [
        {
          "output_type": "stream",
          "name": "stdout",
          "text": [
            "Homero\n",
            "Lisa\n",
            "Bart\n",
            "nota promedio: 11.25\n"
          ]
        }
      ]
    },
    {
      "cell_type": "code",
      "source": [
        "frase = \"Mi nombre es juan\"\n",
        "nombre = \"juan\"\n",
        "def validar_nombre_en_frase(frase, nombre) :\n",
        "  if nombre.lower() in frase.lower():\n",
        "   print(\"Si Esta el nombre\")\n",
        "  else:\n",
        "   print(\"El nombre no esta\")"
      ],
      "metadata": {
        "id": "yfdocD5tKz3b"
      },
      "execution_count": null,
      "outputs": []
    },
    {
      "cell_type": "code",
      "source": [
        "word = \"Hamburguesa\"\n",
        "new_word = \"\"\n",
        "for i in range(len(word)-1,-1,-1):\n",
        "  new_word += word[i]\n",
        "  return new_word\n",
        "# print(word[::-1])"
      ],
      "metadata": {
        "id": "rXRTMYsPNp8y",
        "outputId": "9b630261-f369-4e6a-b65f-4175b2f84d2b",
        "colab": {
          "base_uri": "https://localhost:8080/",
          "height": 106
        }
      },
      "execution_count": null,
      "outputs": [
        {
          "output_type": "error",
          "ename": "SyntaxError",
          "evalue": "'return' outside function (<ipython-input-34-49157a00fc2d>, line 5)",
          "traceback": [
            "\u001b[0;36m  File \u001b[0;32m\"<ipython-input-34-49157a00fc2d>\"\u001b[0;36m, line \u001b[0;32m5\u001b[0m\n\u001b[0;31m    return new_word\u001b[0m\n\u001b[0m    ^\u001b[0m\n\u001b[0;31mSyntaxError\u001b[0m\u001b[0;31m:\u001b[0m 'return' outside function\n"
          ]
        }
      ]
    },
    {
      "cell_type": "code",
      "source": [
        "# def es_palindrome(frase):\n",
        "\n",
        "frase = \"Anita lava la Tina\"\n",
        "x = \"\".join(frase.split()).lower()\n",
        "if x == x[::-1]:\n",
        "   print(\"la frase es plindrome.\")\n",
        "else:\n",
        "   print(\"la frase NO es plindrome.\")"
      ],
      "metadata": {
        "id": "gZ4uNfSvPiGg",
        "outputId": "70098f2e-54e8-4a83-c382-285fd64d8e18",
        "colab": {
          "base_uri": "https://localhost:8080/"
        }
      },
      "execution_count": null,
      "outputs": [
        {
          "output_type": "stream",
          "name": "stdout",
          "text": [
            "la frase es plindrome.\n"
          ]
        }
      ]
    },
    {
      "cell_type": "code",
      "source": [
        "inf_discurso = {}\n",
        "discurs_1 = [\"titulo \", \"queridos \", \"apreciados \", \"distinguidos \", \"honorables \", \"estimados \", \"respetados \"]\n",
        "discurs_2 = [\"publico objetvo \", \"compatriotas \", \"compartidarios \", \"amigos \", \"coterranios \", \"concuidadanos \", \"electores \"]\n",
        "discurs_3 = [\"condicion \", \"en mi gobierno \", \"con su apoyo \", \"siendo elegido \", \"con su ayuda \", \"si me siguen \", \"durante mi mandato \"]\n",
        "discurs_4 = [\"compromiso \", \"voy a derrotar \", \"vencere \", \"eliminare \", \"acabare \", \"luchare conntra \", \"combatire \"]\n",
        "discurs_5 = [\"ilusion de lucha \", \"la violencia y \", \"la delicuencia y \", \"la corrupcion y \", \"la inflacion y \", \"la podreza y \", \"el desplazamiento y \"]\n",
        "discurs_6 = [\"promesa\", \"trabajare por \", \"garantizare \", \"protegere \", \"velare por \", \"promovere \", \"defendere \"]\n",
        "discurs_7 = [\"beneficio populista\", \"la educacion\", \"el empleo\", \"la seguridad\", \"la paz\", \"la igualdad\", \"la salud\"]\n",
        "discurs_8 = [\"dependiendo de la cantidad de votos \", \"del pais \", \"de la ciudad \", \"de la comunidad \", \"de la poblacion \", \"para toda la gente \", \"de cada colombiano \"]\n",
        "inf_discurso[\"discurs_1 \"] = discurs_1\n",
        "inf_discurso[\"discurs_2 \"] = discurs_2\n",
        "inf_discurso[\"discurs_3 \"] = discurs_3\n",
        "inf_discurso[\"discurs_4 \"] = discurs_4\n",
        "inf_discurso[\"discurs_5 \"] = discurs_5\n",
        "inf_discurso[\"discurs_6 \"] = discurs_6\n",
        "inf_discurso[\"discurs_7 \"] = discurs_7\n",
        "inf_discurso[\"discurs_8 \"] = discurs_8\n",
        "def generador_discurso(data):\n",
        "  import random\n",
        "  code = \"\"\n",
        "  for key in data.keys():\n",
        "    code += str(random.choice(data[key]))\n",
        "  return code\n",
        "print(generador_discurso(inf_discurso))"
      ],
      "metadata": {
        "id": "o1nunEC7qhmH",
        "outputId": "f56e1896-d360-4c16-c838-ab99398d0b26",
        "colab": {
          "base_uri": "https://localhost:8080/"
        }
      },
      "execution_count": null,
      "outputs": [
        {
          "output_type": "stream",
          "name": "stdout",
          "text": [
            "apreciados publico objetvo siendo elegido voy a derrotar la podreza y velare por la educaciondel pais \n"
          ]
        }
      ]
    },
    {
      "cell_type": "code",
      "source": [
        "def calcular_iva(p):\n",
        "  Iva = p ** 0.19\n",
        "  return(Iva)\n",
        "\n",
        "precio_compra = float(input(\"ingrese el precio de la compra: \"))\n",
        "Iva = calcular_iva(precio_compra)\n",
        "print(f\"El precio del producto sin Iva: {precio_compra} \")\n",
        "print(f\"El precio del producto con Iva: {Iva} \")\n"
      ],
      "metadata": {
        "id": "jrI9lH_W5IGa",
        "outputId": "be1a658f-b31f-4a0a-e173-606b578b0440",
        "colab": {
          "base_uri": "https://localhost:8080/"
        }
      },
      "execution_count": null,
      "outputs": [
        {
          "output_type": "stream",
          "name": "stdout",
          "text": [
            "ingrese el precio de la compra: 6000\n",
            "El precio del producto si Iva: 6000.0 \n",
            "El precio del producto con Iva: 5.222142729043541 \n"
          ]
        }
      ]
    },
    {
      "cell_type": "code",
      "source": [
        "def notas(nota_1,nota_2,nota_3):\n",
        "  return(nota_1**porc_1) + (nota_2**porc_2) + (nota_3**porc_3)\n",
        "nota_1 = (float(input(\"ingrese su primera nota: \")))\n",
        "porc_1 = (float(input(\"ingrese el porcentaje: \")))\n",
        "nota_2 = (float(input(\"ingrese su segunda nota: \")))\n",
        "porc_2 = (float(input(\"ingrese el porcentaje: \")))\n",
        "nota_3 = (float(input(\"ingrese su tercera nota: \")))\n",
        "porc_3 = (float(input(\"ingrese el porcentaje: \")))\n",
        "nota_final = notas(nota_1,nota_2,nota_3)\n",
        "print(f\"su nota final es: {round(nota_final,2)}\")\n"
      ],
      "metadata": {
        "id": "OwbBFQ5OmMt9"
      },
      "execution_count": null,
      "outputs": []
    },
    {
      "cell_type": "code",
      "source": [
        "figura = []\n",
        "rows = 3\n",
        "colums = 3\n",
        "counter = 1\n",
        "for i in range(rows):\n",
        "  temp = []\n",
        "  for j in range(colums):\n",
        "   temp.append(counter)\n",
        "   counter += 1\n",
        "   # print(figura)\n",
        "  figura.append(temp)\n",
        "\n",
        "for i in range(len(figura)):\n",
        "  for j in range(len(figura[i])):\n",
        "    print(figura[i][j],end=\" \")\n",
        "    print()"
      ],
      "metadata": {
        "id": "25nqiM1ftSjb"
      },
      "execution_count": null,
      "outputs": []
    },
    {
      "cell_type": "code",
      "source": [
        "import numpy as perro\n",
        "h = perro.pi\n",
        "print(h)\n"
      ],
      "metadata": {
        "id": "paFxC_t-2xbP"
      },
      "execution_count": null,
      "outputs": []
    },
    {
      "cell_type": "code",
      "source": [
        "#from numpy import*\n",
        "from datetime import datetime\n",
        "current_time = datetime.now()\n",
        "print(current_time)"
      ],
      "metadata": {
        "id": "6hpcfBbw9JCs"
      },
      "execution_count": null,
      "outputs": []
    },
    {
      "cell_type": "code",
      "source": [
        "locals()"
      ],
      "metadata": {
        "id": "rssCEDgm916y"
      },
      "execution_count": null,
      "outputs": []
    },
    {
      "cell_type": "code",
      "source": [
        "from random import choice, sample, randint\n",
        "random"
      ],
      "metadata": {
        "id": "Wf2VFioC-STJ"
      },
      "execution_count": null,
      "outputs": []
    },
    {
      "cell_type": "code",
      "source": [
        "import random\n",
        "N = random.randint(0,10)\n",
        "N += N\n",
        "path = \"/content/sample_data/sumas\"\n",
        "def open(path, \"a\" ) as infor_data :\n",
        "   infor_data = infor_data.write()"
      ],
      "metadata": {
        "id": "oMYSMXhGSRZN"
      },
      "execution_count": null,
      "outputs": []
    },
    {
      "cell_type": "code",
      "source": [
        "import random\n",
        "columnas = 2\n",
        "filas = 3\n",
        "cartas = [[\"[_]\"for i in range(columnas)] for i in range(filas)]\n",
        "opciones = [\"A\",\"A\",\"B\",\"B\",\"C\",\"C\"]\n",
        "game_cartas = [[\"\"for i in range(columnas)] for i in range(filas)]\n",
        "\n",
        "for i in range(len(game_cartas)):\n",
        "  for j in range(len(game_cartas[i])):\n",
        "   random_carta = random.choice(opciones)\n",
        "   game_cartas[i][j] = \"|\" + random_carta + \"|\"\n",
        "  opciones.remove(random_carta)\n",
        "\n",
        "def show_cartas(cards):\n",
        "  for i in range(len(cards)):\n",
        "    for i in range(len(cards[i])):\n",
        "      print(cards[i][j],end=\"\")\n",
        "\n"
      ],
      "metadata": {
        "id": "2pIo5sVJU3nG"
      },
      "execution_count": null,
      "outputs": []
    },
    {
      "cell_type": "code",
      "source": [
        "import random\n",
        "import time\n",
        "from IPython.display import clear_output\n",
        "rows = 2\n",
        "columns = 3\n",
        "cards_back = [[\"|_|\" for i in range(columns)] for i in range(rows)]\n",
        "options = ['J', 'J', 'Q', 'Q', 'K', 'K']\n",
        "game_cards = [[\"\" for i in range(columns)] for i in range (rows)]\n",
        "for i in range(len(game_cards)):\n",
        "    for j in range(len(game_cards[i])):\n",
        "      random_card = random.choice(options)\n",
        "      game_cards[i][j] = '|' + random_card + '|'\n",
        "      options.remove(random_card)\n",
        "def show_cards(cards):\n",
        "    for i in range(len(cards)):\n",
        "      for j in range(len(cards[i])):\n",
        "        print(cards[i][j], end=\" \")\n",
        "        print(\"\\n\")\n",
        "t = 2\n",
        "show_cards(cards_back)\n",
        "time.sleep(t)\n",
        "clear_output()\n",
        "show_cards(game_cards)\n",
        "time.sleep(t)\n",
        "clear_output()\n",
        "show_cards(cards_back)\n",
        "row = int(input(\"Indique la fila: \"))\n",
        "column = int(input(\"Indique la columna: \"))\n",
        "temp_cards = cards_back\n",
        "temp_cards[row][column] = game_cards[row][column]\n",
        "clear_output()\n",
        "show_cards(temp_cards)\n",
        "row = int(input(\"Indique la fila: \"))\n",
        "column = int(input(\"Indique la columna: \"))\n",
        "temp_cards = cards_back\n",
        "temp_cards[row][column] = game_cards[row][column]\n",
        "clear_output()\n",
        "show_cards(temp_cards)"
      ],
      "metadata": {
        "id": "ZslqKPR6r5QI"
      },
      "execution_count": null,
      "outputs": []
    },
    {
      "cell_type": "markdown",
      "source": [
        "NUMPY ESTADISTICAS"
      ],
      "metadata": {
        "id": "AnbQJuDJusVd"
      }
    },
    {
      "cell_type": "code",
      "source": [
        "import numpy as np\n",
        "survey_responses = [5, 10.2, 4, .3, 6.6]\n",
        "survey_array = np.array(survey_responses)\n",
        "print(np.mean(survey_array))"
      ],
      "metadata": {
        "id": "2cWkuukvulOE",
        "outputId": "be5ef0f4-3915-4c82-e07d-cc1de313a834",
        "colab": {
          "base_uri": "https://localhost:8080/"
        }
      },
      "execution_count": 2,
      "outputs": [
        {
          "output_type": "stream",
          "name": "stdout",
          "text": [
            "5.220000000000001\n"
          ]
        }
      ]
    }
  ]
}