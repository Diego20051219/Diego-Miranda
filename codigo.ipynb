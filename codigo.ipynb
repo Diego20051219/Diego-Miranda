{
  "nbformat": 4,
  "nbformat_minor": 0,
  "metadata": {
    "colab": {
      "provenance": [],
      "authorship_tag": "ABX9TyNAxEIm3iTfmr87juF33d8t",
      "include_colab_link": true
    },
    "kernelspec": {
      "name": "python3",
      "display_name": "Python 3"
    },
    "language_info": {
      "name": "python"
    }
  },
  "cells": [
    {
      "cell_type": "markdown",
      "metadata": {
        "id": "view-in-github",
        "colab_type": "text"
      },
      "source": [
        "<a href=\"https://colab.research.google.com/github/Diego20051219/Diego-Miranda/blob/main/codigo.ipynb\" target=\"_parent\"><img src=\"https://colab.research.google.com/assets/colab-badge.svg\" alt=\"Open In Colab\"/></a>"
      ]
    },
    {
      "cell_type": "code",
      "execution_count": null,
      "metadata": {
        "colab": {
          "base_uri": "https://localhost:8080/"
        },
        "id": "b0r0lUinuuL9",
        "outputId": "125132db-91c2-4431-8c5c-0c7cd333400d"
      },
      "outputs": [
        {
          "output_type": "stream",
          "name": "stdout",
          "text": [
            "1\n"
          ]
        }
      ],
      "source": [
        "d = 5\n",
        "c = 6\n",
        "a  = c - d\n",
        "print(a)"
      ]
    },
    {
      "cell_type": "code",
      "source": [
        "# Algoritmo cancele\n",
        "a = int(input(\"Ingrese la primera nota: \"))\n",
        "b = int(input(\"Ingrese la segunda nota: \"))\n",
        "c = int(input(\"Ingrese la tercera nota: \"))\n",
        "d = int(input(\"Ingrese la cuarta nota: \"))\n",
        "s = (a + b + c + d )/4\n",
        "if s<2.9 :\n",
        "\t\tprint( f\"cancele, su nota es {s}\")\n",
        "else :\n",
        "\tprint(f\"su nota es {s} sigue asì\")"
      ],
      "metadata": {
        "colab": {
          "base_uri": "https://localhost:8080/"
        },
        "id": "iteaI62MvW8e",
        "outputId": "46425be6-cb3d-4d89-bbc1-32b81f0149aa"
      },
      "execution_count": null,
      "outputs": [
        {
          "output_type": "stream",
          "name": "stdout",
          "text": [
            "Ingrese la primera nota: 3\n",
            "Ingrese la segunda nota: 4\n",
            "Ingrese la tercera nota: 5\n",
            "Ingrese la cuarta nota: 2\n",
            "su nota es 3.5 sigue asì\n"
          ]
        }
      ]
    },
    {
      "cell_type": "code",
      "source": [
        "# Algoritmo seguridad\n",
        "CV=2004\n",
        "C = float(input( \"Ingrese su Contraseña: \"))\n",
        "while C != CV :\n",
        "  print( \"Contraseña Incorrecta \")\n",
        "  C = float(input( \"Ingrese su Contraseña: \"))\n",
        "if C == CV :\n",
        "\t print(\"contraseña Correcta\")\n",
        "else :\n",
        "\t print(\"Contraseña Correcta\")"
      ],
      "metadata": {
        "colab": {
          "base_uri": "https://localhost:8080/"
        },
        "id": "503nd9UAy5em",
        "outputId": "f6e8aef8-42ba-4c88-e2de-dc70f9d13f34"
      },
      "execution_count": null,
      "outputs": [
        {
          "output_type": "stream",
          "name": "stdout",
          "text": [
            "Ingrese su Contraseña2005\n",
            "Contraseña Incorrecta\n",
            "Ingrese su Contraseña30823\n",
            "Contraseña Incorrecta\n",
            "Ingrese su Contraseña2004\n",
            "contraseña Correcta\n"
          ]
        }
      ]
    },
    {
      "cell_type": "code",
      "source": [
        "# Sistema vacacional de Coca-Cola Company\n",
        "print(\"Bienvenido al sistema vacacional de Coca-Cola Company\")\n",
        "nombre = input(\"¿Cuál es el nombre del trabajador? \")\n",
        "antiguedad = int(input(\"¿Cuántos años de servicio tiene el trabajador? \"))\n",
        "clave = int(input(\"¿Cuál es la clave de su departamento? \"))\n",
        "\n",
        "if clave > 3:\n",
        "    print(\"Error, la clave de departamento no existe.\")\n",
        "else:\n",
        "    if clave == 1:\n",
        "        if antiguedad == 1:\n",
        "            print(nombre, \"tiene derecho a 6 días de vacaciones.\")\n",
        "        elif 2 <= antiguedad <= 6:\n",
        "            print(nombre, \"tiene derecho a 14 días de vacaciones.\")\n",
        "        elif antiguedad == 7:\n",
        "            print(nombre, \"tiene derecho a 20 días de vacaciones.\")\n",
        "        else:\n",
        "            print(\"Aun no tiene derecho a vacaciones.\")\n",
        "    elif clave == 2:\n",
        "        if antiguedad == 1:\n",
        "            print(nombre, \"tiene derecho a 7 días de vacaciones.\")\n",
        "        elif 2 <= antiguedad <= 6:\n",
        "            print(nombre, \"tiene derecho a 15 días de vacaciones.\")\n",
        "        elif antiguedad == 7:\n",
        "            print(nombre, \"tiene derecho a 22 días de vacaciones.\")\n",
        "        else:\n",
        "            print(\"Aun no tiene derecho a vacaciones.\")\n",
        "    elif clave == 3:\n",
        "        if antiguedad == 1:\n",
        "            print(nombre, \"tiene derecho a 10 días de vacaciones.\")\n",
        "        elif 2 <= antiguedad <= 6:\n",
        "            print(nombre, \"tiene derecho a 20 días de vacaciones.\")\n",
        "        elif antiguedad == 7:\n",
        "            print(nombre, \"tiene derecho a 30 días de vacaciones.\")\n",
        "        else:\n",
        "            print(\"Aun no tiene derecho a vacaciones.\")\n"
      ],
      "metadata": {
        "id": "Q3NNO_R7L5ay",
        "outputId": "cc7e89a8-f6f3-4a70-cd25-63c2c82ccfdb",
        "colab": {
          "base_uri": "https://localhost:8080/"
        }
      },
      "execution_count": null,
      "outputs": [
        {
          "output_type": "stream",
          "name": "stdout",
          "text": [
            "Bienvenido al sistema vacacional de Coca-Cola Company\n",
            "¿Cuál es el nombre del trabajador? hdfdfdf\n",
            "¿Cuántos años de servicio tiene el trabajador? 2\n",
            "¿Cuál es la clave de su departamento? 4\n",
            "Error, la clave de departamento no existe.\n"
          ]
        }
      ]
    },
    {
      "cell_type": "markdown",
      "source": [
        "CALCULO DE DE LA TIERRA\n"
      ],
      "metadata": {
        "id": "O2qS9Z-bnC9z"
      }
    },
    {
      "cell_type": "code",
      "source": [
        "total_craes = 43.500\n",
        "D = float(input(\"insert the total of square feat in the tract: \"))\n",
        "total = D / total_craes\n",
        "print(f\"el total es de:{total}\")"
      ],
      "metadata": {
        "id": "l5VT8CjFnXOf",
        "outputId": "c1290aac-779c-4680-c301-cb4311f20255",
        "colab": {
          "base_uri": "https://localhost:8080/"
        }
      },
      "execution_count": 2,
      "outputs": [
        {
          "output_type": "stream",
          "name": "stdout",
          "text": [
            "insert the total of square feat in the tract: 7673\n",
            "el total es de:176.39080459770116\n"
          ]
        }
      ]
    },
    {
      "cell_type": "markdown",
      "source": [],
      "metadata": {
        "id": "xvuvYwhPpS9k"
      }
    }
  ]
}