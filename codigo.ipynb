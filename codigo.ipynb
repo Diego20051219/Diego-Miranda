{
  "nbformat": 4,
  "nbformat_minor": 0,
  "metadata": {
    "colab": {
      "provenance": [],
      "authorship_tag": "ABX9TyNzWJ3EfKVGjkR1jUdN9+vj",
      "include_colab_link": true
    },
    "kernelspec": {
      "name": "python3",
      "display_name": "Python 3"
    },
    "language_info": {
      "name": "python"
    }
  },
  "cells": [
    {
      "cell_type": "markdown",
      "metadata": {
        "id": "view-in-github",
        "colab_type": "text"
      },
      "source": [
        "<a href=\"https://colab.research.google.com/github/Diego20051219/Diego-Miranda/blob/main/codigo.ipynb\" target=\"_parent\"><img src=\"https://colab.research.google.com/assets/colab-badge.svg\" alt=\"Open In Colab\"/></a>"
      ]
    },
    {
      "cell_type": "code",
      "execution_count": 1,
      "metadata": {
        "colab": {
          "base_uri": "https://localhost:8080/"
        },
        "id": "b0r0lUinuuL9",
        "outputId": "125132db-91c2-4431-8c5c-0c7cd333400d"
      },
      "outputs": [
        {
          "output_type": "stream",
          "name": "stdout",
          "text": [
            "1\n"
          ]
        }
      ],
      "source": [
        "d = 5\n",
        "c = 6\n",
        "a  = c - d\n",
        "print(a)"
      ]
    },
    {
      "cell_type": "code",
      "source": [
        "# Algoritmo cancele\n",
        "a = int(input(\"Ingrese la primera nota: \"))\n",
        "b = int(input(\"Ingrese la segunda nota: \"))\n",
        "c = int(input(\"Ingrese la tercera nota: \"))\n",
        "d = int(input(\"Ingrese la cuarta nota: \"))\n",
        "s = (a + b + c + d )/4\n",
        "if s<2.9 :\n",
        "\t\tprint( f\"cancele, su nota es {s}\")\n",
        "else :\n",
        "\tprint(f\"su nota es {s} sigue asì\")"
      ],
      "metadata": {
        "colab": {
          "base_uri": "https://localhost:8080/"
        },
        "id": "iteaI62MvW8e",
        "outputId": "46425be6-cb3d-4d89-bbc1-32b81f0149aa"
      },
      "execution_count": 3,
      "outputs": [
        {
          "output_type": "stream",
          "name": "stdout",
          "text": [
            "Ingrese la primera nota: 3\n",
            "Ingrese la segunda nota: 4\n",
            "Ingrese la tercera nota: 5\n",
            "Ingrese la cuarta nota: 2\n",
            "su nota es 3.5 sigue asì\n"
          ]
        }
      ]
    }
  ]
}