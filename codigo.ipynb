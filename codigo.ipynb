{
  "nbformat": 4,
  "nbformat_minor": 0,
  "metadata": {
    "colab": {
      "provenance": [],
      "authorship_tag": "ABX9TyMBlI3OXwhJI4j+mGyBiGah",
      "include_colab_link": true
    },
    "kernelspec": {
      "name": "python3",
      "display_name": "Python 3"
    },
    "language_info": {
      "name": "python"
    }
  },
  "cells": [
    {
      "cell_type": "markdown",
      "metadata": {
        "id": "view-in-github",
        "colab_type": "text"
      },
      "source": [
        "<a href=\"https://colab.research.google.com/github/Diego20051219/Diego-Miranda/blob/main/codigo.ipynb\" target=\"_parent\"><img src=\"https://colab.research.google.com/assets/colab-badge.svg\" alt=\"Open In Colab\"/></a>"
      ]
    },
    {
      "cell_type": "code",
      "execution_count": null,
      "metadata": {
        "colab": {
          "base_uri": "https://localhost:8080/"
        },
        "id": "b0r0lUinuuL9",
        "outputId": "ed45febb-4ffb-4e40-8cfb-08238599032d"
      },
      "outputs": [
        {
          "output_type": "stream",
          "name": "stdout",
          "text": [
            "1\n"
          ]
        }
      ],
      "source": [
        "d = 5\n",
        "c = 6\n",
        "a  = c - d\n",
        "print(a)"
      ]
    },
    {
      "cell_type": "code",
      "source": [
        "# Algoritmo cancele\n",
        "a = int(input(\"Ingrese la primera nota: \"))\n",
        "b = int(input(\"Ingrese la segunda nota: \"))\n",
        "c = int(input(\"Ingrese la tercera nota: \"))\n",
        "d = int(input(\"Ingrese la cuarta nota: \"))\n",
        "s = (a + b + c + d )/4\n",
        "if s<2.9 :\n",
        "\t\tprint( f\"cancele, su nota es {s}\")\n",
        "else :\n",
        "\tprint(f\"su nota es {s} sigue asì\")"
      ],
      "metadata": {
        "colab": {
          "base_uri": "https://localhost:8080/"
        },
        "id": "iteaI62MvW8e",
        "outputId": "46425be6-cb3d-4d89-bbc1-32b81f0149aa"
      },
      "execution_count": null,
      "outputs": [
        {
          "output_type": "stream",
          "name": "stdout",
          "text": [
            "Ingrese la primera nota: 3\n",
            "Ingrese la segunda nota: 4\n",
            "Ingrese la tercera nota: 5\n",
            "Ingrese la cuarta nota: 2\n",
            "su nota es 3.5 sigue asì\n"
          ]
        }
      ]
    },
    {
      "cell_type": "code",
      "source": [
        "# Algoritmo seguridad\n",
        "CV=2004\n",
        "C = float(input( \"Ingrese su Contraseña: \"))\n",
        "while C != CV :\n",
        "  print( \"Contraseña Incorrecta \")\n",
        "  C = float(input( \"Ingrese su Contraseña: \"))\n",
        "if C == CV :\n",
        "\t print(\"contraseña Correcta\")\n",
        "else :\n",
        "\t print(\"Contraseña Correcta\")"
      ],
      "metadata": {
        "colab": {
          "base_uri": "https://localhost:8080/"
        },
        "id": "503nd9UAy5em",
        "outputId": "f6e8aef8-42ba-4c88-e2de-dc70f9d13f34"
      },
      "execution_count": null,
      "outputs": [
        {
          "output_type": "stream",
          "name": "stdout",
          "text": [
            "Ingrese su Contraseña2005\n",
            "Contraseña Incorrecta\n",
            "Ingrese su Contraseña30823\n",
            "Contraseña Incorrecta\n",
            "Ingrese su Contraseña2004\n",
            "contraseña Correcta\n"
          ]
        }
      ]
    },
    {
      "cell_type": "code",
      "source": [
        "# Sistema vacacional de Coca-Cola Company\n",
        "print(\"Bienvenido al sistema vacacional de Coca-Cola Company\")\n",
        "nombre = input(\"¿Cuál es el nombre del trabajador? \")\n",
        "antiguedad = int(input(\"¿Cuántos años de servicio tiene el trabajador? \"))\n",
        "clave = int(input(\"¿Cuál es la clave de su departamento? \"))\n",
        "\n",
        "if clave > 3:\n",
        "    print(\"Error, la clave de departamento no existe.\")\n",
        "else:\n",
        "    if clave == 1:\n",
        "        if antiguedad == 1:\n",
        "            print(nombre, \"tiene derecho a 6 días de vacaciones.\")\n",
        "        elif 2 <= antiguedad <= 6:\n",
        "            print(nombre, \"tiene derecho a 14 días de vacaciones.\")\n",
        "        elif antiguedad == 7:\n",
        "            print(nombre, \"tiene derecho a 20 días de vacaciones.\")\n",
        "        else:\n",
        "            print(\"Aun no tiene derecho a vacaciones.\")\n",
        "    elif clave == 2:\n",
        "        if antiguedad == 1:\n",
        "            print(nombre, \"tiene derecho a 7 días de vacaciones.\")\n",
        "        elif 2 <= antiguedad <= 6:\n",
        "            print(nombre, \"tiene derecho a 15 días de vacaciones.\")\n",
        "        elif antiguedad == 7:\n",
        "            print(nombre, \"tiene derecho a 22 días de vacaciones.\")\n",
        "        else:\n",
        "            print(\"Aun no tiene derecho a vacaciones.\")\n",
        "    elif clave == 3:\n",
        "        if antiguedad == 1:\n",
        "            print(nombre, \"tiene derecho a 10 días de vacaciones.\")\n",
        "        elif 2 <= antiguedad <= 6:\n",
        "            print(nombre, \"tiene derecho a 20 días de vacaciones.\")\n",
        "        elif antiguedad == 7:\n",
        "            print(nombre, \"tiene derecho a 30 días de vacaciones.\")\n",
        "        else:\n",
        "            print(\"Aun no tiene derecho a vacaciones.\")\n"
      ],
      "metadata": {
        "id": "Q3NNO_R7L5ay",
        "outputId": "cc7e89a8-f6f3-4a70-cd25-63c2c82ccfdb",
        "colab": {
          "base_uri": "https://localhost:8080/"
        }
      },
      "execution_count": null,
      "outputs": [
        {
          "output_type": "stream",
          "name": "stdout",
          "text": [
            "Bienvenido al sistema vacacional de Coca-Cola Company\n",
            "¿Cuál es el nombre del trabajador? hdfdfdf\n",
            "¿Cuántos años de servicio tiene el trabajador? 2\n",
            "¿Cuál es la clave de su departamento? 4\n",
            "Error, la clave de departamento no existe.\n"
          ]
        }
      ]
    },
    {
      "cell_type": "markdown",
      "source": [
        "CALCULO DE DE LA TIERRA\n"
      ],
      "metadata": {
        "id": "O2qS9Z-bnC9z"
      }
    },
    {
      "cell_type": "code",
      "source": [
        "total_craes = 43.500\n",
        "D = float(input(\"insert the total of square feat in the tract: \"))\n",
        "total = D / total_craes\n",
        "print(f\"el total es de:{total}\")"
      ],
      "metadata": {
        "colab": {
          "base_uri": "https://localhost:8080/"
        },
        "id": "l5VT8CjFnXOf",
        "outputId": "c1290aac-779c-4680-c301-cb4311f20255"
      },
      "execution_count": null,
      "outputs": [
        {
          "output_type": "stream",
          "name": "stdout",
          "text": [
            "insert the total of square feat in the tract: 7673\n",
            "el total es de:176.39080459770116\n"
          ]
        }
      ]
    },
    {
      "cell_type": "code",
      "source": [
        "tax = 6 / 100\n",
        "items1 = float(input(\"ingrese el valor items 1 : $\"))\n",
        "items2 = float(input(\"ingrese el valor items 2 : $\"))\n",
        "items3 = float(input(\"ingrese el valor items 3 : $\"))\n",
        "items4 = float(input(\"ingrese el valor items 4 : $\"))\n",
        "subtotal = items1 + items2 + items3 + items4\n",
        "sales_tax = subtotal * tax\n",
        "acut = subtotal * sales_tax"
      ],
      "metadata": {
        "id": "xRIJAuQirtC2"
      },
      "execution_count": null,
      "outputs": []
    },
    {
      "cell_type": "code",
      "source": [
        "a = float(input(\"ingrese un valor :\"))\n",
        "b = float (input(\"ingrese un valor: \"))\n",
        "if a != 0 :\n",
        "  x = -b / a\n",
        "  print(x)\n",
        "else :\n",
        "  if  b != 0 :\n",
        "    print(\"solucion imposible\")\n",
        "  else:\n",
        "    print(\"solucion indeterminada\")\n"
      ],
      "metadata": {
        "id": "SBS6BDUnydRJ",
        "outputId": "ffc1a7fa-9c8d-4b1d-8da5-c3f1a55ed7ba",
        "colab": {
          "base_uri": "https://localhost:8080/"
        }
      },
      "execution_count": null,
      "outputs": [
        {
          "output_type": "stream",
          "name": "stdout",
          "text": [
            "ingrese un valor :0\n",
            "ingrese un valor: 0\n",
            "solucion indeterminada\n"
          ]
        }
      ]
    },
    {
      "cell_type": "code",
      "source": [
        "horas = float(input(\"ingrese las horas trabajadas: \"))\n",
        "tarifa = float (input(\"ingrese la tarifa: \"))\n",
        "nombre = input(\"Ingrese su nombre: \")\n",
        "if horas <= 35 :\n",
        " salario_bruto = horas * tarifa\n",
        "else:\n",
        "  horas_extras = horas - 35\n",
        "  tarifa_extra = tarifa * (1 + 0.5)\n",
        "  salrio_bruto = horas * tarifa * 35 + horas_extras * tarifa_extra\n",
        "if salario_bruto <= 2200 :\n",
        "   impuesto = 0\n",
        "else :\n",
        "   if salario_bruto <= 2420 :\n",
        "     salario_neto = salario_bruto * 0.2\n",
        "   else : salario_bruto > 2420\n",
        "salario_neto = salario_bruto * 0.3\n",
        "print(f\"Hola {nombre} su salario en esta semana es de {salario_neto}\" )\n",
        "\n",
        "\n"
      ],
      "metadata": {
        "id": "YbnNTXtB7tC8",
        "outputId": "a53f875e-2a4d-4812-ef33-a65b1f1a0081",
        "colab": {
          "base_uri": "https://localhost:8080/"
        }
      },
      "execution_count": null,
      "outputs": [
        {
          "output_type": "stream",
          "name": "stdout",
          "text": [
            "ingrese las horas trabajadas: 3\n",
            "ingrese la tarifa: 2400\n",
            "Ingrese su nombre: diego\n",
            "Hola ¨diego su salario esta semana es de 2160.0\n"
          ]
        }
      ]
    },
    {
      "cell_type": "code",
      "source": [
        "a = int (input(\"ingrese un numero: \"))\n",
        "b = int (input(\"ingrese un numero: \"))\n",
        "c= int (input(\"ingrese un numero: \"))\n",
        "if a > b :\n",
        "  if a > c :\n",
        "   print (a)\n",
        "  else :\n",
        "    print(c)\n",
        "else :\n",
        "  if b > c :\n",
        "    print(b)\n",
        "  else:\n",
        "    print(c)\n"
      ],
      "metadata": {
        "id": "b3H7piyvAkRO",
        "outputId": "00c7cbdf-4742-4dc1-8cf0-72793bf7d6d2",
        "colab": {
          "base_uri": "https://localhost:8080/"
        }
      },
      "execution_count": null,
      "outputs": [
        {
          "output_type": "stream",
          "name": "stdout",
          "text": [
            "ingrese un numero: 1\n",
            "ingrese un numero: 2\n",
            "ingrese un numero: 3\n",
            "3\n"
          ]
        }
      ]
    },
    {
      "cell_type": "code",
      "source": [
        "# CALCULAR SUMA\n",
        "print(\"Bienvenidos al programa calcular la suma de varios numeros \")\n",
        "x = float(input(\"ingrese un numero: \"))\n",
        "suma = 0\n",
        "while x != 0 :\n",
        "  suma += x\n",
        "  x = float(input(\"ingrese otro numero: \"))\n",
        "print(f\"la suma de los numero es {suma}\")"
      ],
      "metadata": {
        "id": "4MMQBrvqwNe-"
      },
      "execution_count": null,
      "outputs": []
    },
    {
      "cell_type": "code",
      "source": [
        "# calculadora notas\n",
        "x = float(input(\"ingrese las notas a calcular: \"))\n",
        "for s in range(x):\n",
        " nota = float(input(\"ingrese su nota: \"))\n",
        " peso = float(input(\"ingrese el porcentaje: \"))\n",
        "suma_prod += nota * peso / 100\n",
        "suma_pes += peso / 100\n",
        "\n",
        "\n"
      ],
      "metadata": {
        "id": "vwoFn5Za7oOF",
        "outputId": "bcfd9937-1187-49f5-ff7d-d41abf134747",
        "colab": {
          "base_uri": "https://localhost:8080/",
          "height": 228
        }
      },
      "execution_count": null,
      "outputs": [
        {
          "name": "stdout",
          "output_type": "stream",
          "text": [
            "ingrese las notas a calcular: 3\n"
          ]
        },
        {
          "output_type": "error",
          "ename": "TypeError",
          "evalue": "'float' object cannot be interpreted as an integer",
          "traceback": [
            "\u001b[0;31m---------------------------------------------------------------------------\u001b[0m",
            "\u001b[0;31mTypeError\u001b[0m                                 Traceback (most recent call last)",
            "\u001b[0;32m<ipython-input-37-1dce5e5d0e3c>\u001b[0m in \u001b[0;36m<cell line: 3>\u001b[0;34m()\u001b[0m\n\u001b[1;32m      1\u001b[0m \u001b[0;31m# calculadora notas\u001b[0m\u001b[0;34m\u001b[0m\u001b[0;34m\u001b[0m\u001b[0m\n\u001b[1;32m      2\u001b[0m \u001b[0mx\u001b[0m \u001b[0;34m=\u001b[0m \u001b[0mfloat\u001b[0m\u001b[0;34m(\u001b[0m\u001b[0minput\u001b[0m\u001b[0;34m(\u001b[0m\u001b[0;34m\"ingrese las notas a calcular: \"\u001b[0m\u001b[0;34m)\u001b[0m\u001b[0;34m)\u001b[0m\u001b[0;34m\u001b[0m\u001b[0;34m\u001b[0m\u001b[0m\n\u001b[0;32m----> 3\u001b[0;31m \u001b[0;32mfor\u001b[0m \u001b[0ms\u001b[0m \u001b[0;32min\u001b[0m \u001b[0mrange\u001b[0m\u001b[0;34m(\u001b[0m\u001b[0mx\u001b[0m\u001b[0;34m)\u001b[0m\u001b[0;34m:\u001b[0m\u001b[0;34m\u001b[0m\u001b[0;34m\u001b[0m\u001b[0m\n\u001b[0m\u001b[1;32m      4\u001b[0m  \u001b[0mnota\u001b[0m \u001b[0;34m=\u001b[0m \u001b[0mfloat\u001b[0m\u001b[0;34m(\u001b[0m\u001b[0minput\u001b[0m\u001b[0;34m(\u001b[0m\u001b[0;34m\"ingrese su nota: \"\u001b[0m\u001b[0;34m)\u001b[0m\u001b[0;34m)\u001b[0m\u001b[0;34m\u001b[0m\u001b[0;34m\u001b[0m\u001b[0m\n\u001b[1;32m      5\u001b[0m  \u001b[0mpeso\u001b[0m \u001b[0;34m=\u001b[0m \u001b[0mfloat\u001b[0m\u001b[0;34m(\u001b[0m\u001b[0minput\u001b[0m\u001b[0;34m(\u001b[0m\u001b[0;34m\"ingrese el porcentaje: \"\u001b[0m\u001b[0;34m)\u001b[0m\u001b[0;34m)\u001b[0m\u001b[0;34m\u001b[0m\u001b[0;34m\u001b[0m\u001b[0m\n",
            "\u001b[0;31mTypeError\u001b[0m: 'float' object cannot be interpreted as an integer"
          ]
        }
      ]
    },
    {
      "cell_type": "markdown",
      "source": [
        "`Listas pytho`"
      ],
      "metadata": {
        "id": "RanBI-XMPUsQ"
      }
    },
    {
      "cell_type": "code",
      "source": [
        "frutas = [\"manzana\", \"naranja\", \"pera\", \"mango\", \"pomelo\"]\n",
        "print(frutas)\n",
        "frutas.append(\"guanaba\" )\n",
        "frutas.append(\"ciruela\")\n",
        "print(frutas[3])\n",
        "print(frutas[-1])\n",
        "print(frutas[0])\n",
        "print(frutas)\n"
      ],
      "metadata": {
        "id": "Svc-RzEoPSna",
        "outputId": "69583860-1bd2-4c03-a948-e16488e740d7",
        "colab": {
          "base_uri": "https://localhost:8080/"
        }
      },
      "execution_count": 8,
      "outputs": [
        {
          "output_type": "stream",
          "name": "stdout",
          "text": [
            "['manzana', 'naranja', 'pera', 'mango']\n",
            "mango\n",
            "ciruela\n",
            "manzana\n",
            "['manzana', 'naranja', 'pera', 'mango', 'guanaba', 'ciruela']\n"
          ]
        }
      ]
    },
    {
      "cell_type": "code",
      "source": [
        "frutas = [\"manzana\", \"naranja\", \"maracuya\", \"pera\", \"mango\", \"pomelo\", \"maracuya\"]\n",
        "# # for fruta in frutas :\n",
        "# #   print(fruta)\n",
        "# # for i in range(len(frutas)):\n",
        "# #   print(f\"{i + 1}.{frutas[i]}\")\n",
        "# # i = 0\n",
        "# # while i < 5:\n",
        "# #   print(i)\n",
        "# #   i += 1\n",
        "# # for i in range(10, -11, 2):\n",
        "# #   print(i)\n",
        "for fruta in frutas :\n",
        " if fruta == \"maracuya\" :\n",
        "                  continue\n",
        " print(fruta)\n"
      ],
      "metadata": {
        "id": "uLgnjbjzUg4I",
        "outputId": "1f762062-987a-4c47-a4ad-589582714483",
        "colab": {
          "base_uri": "https://localhost:8080/"
        }
      },
      "execution_count": 32,
      "outputs": [
        {
          "output_type": "stream",
          "name": "stdout",
          "text": [
            "manzana\n",
            "naranja\n",
            "pera\n",
            "mango\n",
            "pomelo\n"
          ]
        }
      ]
    },
    {
      "cell_type": "code",
      "source": [
        "a =  [12, 23, 15]\n",
        "b =  [6, 5, 4]\n",
        "sum_a = 0\n",
        "sum_b = 0\n",
        "for element in a: sum_a += element\n",
        "for element in b: sum_b += element\n",
        "if sum_a > sum_b:\n",
        "  print(\"a es mayor\")\n",
        "  elif\n",
        "  print(\"b es mayor\")\n",
        "else :\n",
        " print(\"a y b son iguales\")\n",
        "\n"
      ],
      "metadata": {
        "id": "dwYmEuWKc_tr",
        "outputId": "3b6e94e3-a087-4c7b-a38a-8c2c0999eaad",
        "colab": {
          "base_uri": "https://localhost:8080/",
          "height": 106
        }
      },
      "execution_count": 50,
      "outputs": [
        {
          "output_type": "error",
          "ename": "IndentationError",
          "evalue": "unindent does not match any outer indentation level (<tokenize>, line 9)",
          "traceback": [
            "\u001b[0;36m  File \u001b[0;32m\"<tokenize>\"\u001b[0;36m, line \u001b[0;32m9\u001b[0m\n\u001b[0;31m    elif\u001b[0m\n\u001b[0m    ^\u001b[0m\n\u001b[0;31mIndentationError\u001b[0m\u001b[0;31m:\u001b[0m unindent does not match any outer indentation level\n"
          ]
        }
      ]
    }
  ]
}